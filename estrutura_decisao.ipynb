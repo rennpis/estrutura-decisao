{
 "cells": [
  {
   "cell_type": "code",
   "execution_count": null,
   "metadata": {},
   "outputs": [],
   "source": [
    "#1) Solicite ao usuário um valor numérico, inteiro ou real, e verifique se ele é maior ou menor que 10. O programa deve escrever a mensagem correspondente (maior ou menor) e informar o valor digitado pelo usuário.\n",
    "\n",
    "numero = int(input('Insira o número desejado: '))\n",
    "\n",
    "if numero <= 10:\n",
    "    print(f'O numero que você digitou é {numero}, e é menor que 10.')\n",
    "elif numero > 10:\n",
    "    print(f'O numero que você digitou é {numero}, e é maior que 10.')"
   ]
  },
  {
   "cell_type": "code",
   "execution_count": null,
   "metadata": {},
   "outputs": [],
   "source": [
    "#2) Solicite ao usuário um valor numérico, inteiro ou real, e escrever se é positivo ou negativo (considere o valor zero como positivo).\n",
    "\n",
    "numero = int(input('Insira o número desejo: '))\n",
    "\n",
    "if numero >= 0:\n",
    "    print(f\"O número {numero} é positivo.\")\n",
    "else:\n",
    "    print(f\"O número {numero} é negativo.\")\n"
   ]
  },
  {
   "cell_type": "code",
   "execution_count": null,
   "metadata": {},
   "outputs": [],
   "source": [
    "#3) As maçãs custam 1,30 cada, se forem compradas menos de uma dúzia, e 1,00 se forem compradas pelo menos 12. Escreva um programa que leia o número de maçãs compradas, calcule e escreva o custo total da compra.\n",
    "\n",
    "quant_maca = int(input('Insira o valor de número de maçãs compradas: '))\n",
    "\n",
    "if quant_maca < 12:\n",
    "    unid_maca = 1.30\n",
    "else:\n",
    "    unid_maca = 1.00\n",
    "\n",
    "custo_total = quant_maca * unid_maca\n",
    "\n",
    "print(f\"O custo total da compra é: R${custo_total:.2f}.\")\n",
    "\n"
   ]
  },
  {
   "cell_type": "code",
   "execution_count": null,
   "metadata": {},
   "outputs": [],
   "source": [
    "#4) Ler as notas da 1a. e 2a. avaliações de um aluno. Calcular a média aritmética simples e escrever uma mensagem que diga se o aluno foi ou não aprovado (considerar que nota igual ou maior que 6 o aluno é aprovado). Escrever também a média calculada.\n",
    "\n",
    "nota1 = float(input('Insira sua primeira nota: '))\n",
    "nota2 = float(input('Insira sua segunda nota: '))\n",
    "media = (nota1 + nota2) / 2\n",
    "\n",
    "if media > 6:\n",
    "    print(f'A sua nota é: {media:.1f}.')\n",
    "    print(f'Parabéns, você passou!')\n",
    "else:\n",
    "    print(f'A sua nota é: {media:.1f}.')\n",
    "    print(f'Sinto muito, você não atingiu a média.')"
   ]
  },
  {
   "cell_type": "code",
   "execution_count": null,
   "metadata": {},
   "outputs": [],
   "source": [
    "#5) Ler dois valores (considere que não serão lidos valores iguais) e escrever o maior deles.\n",
    "\n",
    "valor1 = int(input('Insira o primeiro valor: '))\n",
    "valor2 = int(input('Insira o segundo valor: '))\n",
    "\n",
    "if valor1 > valor2:\n",
    "    print(f'Os valores inseridos foram: {valor1} e {valor2}.')\n",
    "    print(f'Dentre esses valores, o maior valor é: {valor1}.')\n",
    "else:\n",
    "    print(f'Os valores inseridos foram: {valor1} e {valor2}.')\n",
    "    print(f'Dentre esses valores, o maior valor é: {valor2}.')"
   ]
  },
  {
   "cell_type": "code",
   "execution_count": null,
   "metadata": {},
   "outputs": [],
   "source": [
    "#6) Ler dois valores (considere que não serão lidos valores iguais) e escrevê-los em ordem crescente.\n",
    "\n",
    "valor1 = int(input('Insira o primeiro valor: '))\n",
    "valor2 = int(input('Insira o segundo valor: '))\n",
    "\n",
    "if valor1 < valor2:\n",
    "    print(f'A ordem crescente dos valores {valor1} e {valor2} é: {valor1} e {valor2}.')\n",
    "else:\n",
    "    print(f'A ordem crescente dos valores {valor1} e {valor2} é: {valor2} e {valor1}.')"
   ]
  },
  {
   "cell_type": "code",
   "execution_count": 1,
   "metadata": {},
   "outputs": [
    {
     "name": "stdout",
     "output_type": "stream",
     "text": [
      "Exibindo resultados para a conta 260497:\n",
      "O seu saldo atual é R$86.83, parabéns!\n"
     ]
    }
   ],
   "source": [
    "#7) Faça um algoritmo para ler: número da conta do cliente, saldo, débito e crédito. Após, calcular e escrever o saldo atual (saldo atual = saldo - débito + crédito). Também testar se saldo atual for maior ou igual a zero escrever a mensagem 'Saldo Positivo', senão escrever a mensagem 'Saldo Negativo'.\n",
    "\n",
    "conta_cliente = int(input('Insira o número da sua conta: '))\n",
    "saldo_cliente = float(input('Insira o seu saldo: '))\n",
    "debito_cliente = float(input('Insira o valor a ser debitado: '))\n",
    "credito_cliente = float(input('Insira o valor a ser creditado: '))\n",
    "saldo_atual = saldo_cliente - debito_cliente + credito_cliente\n",
    "\n",
    "if saldo_atual >= 0:\n",
    "    print(f'Exibindo resultados para a conta {conta_cliente}:')\n",
    "    print(f'O seu saldo atual é R${saldo_atual:.2f}, parabéns!')\n",
    "else:\n",
    "    print(f'Exibindo resultados para a conta {conta_cliente}:')\n",
    "    print(f'O seu saldo atual é R${saldo_atual:.2f}, parabéns!')\n",
    "\n",
    "\n"
   ]
  },
  {
   "cell_type": "code",
   "execution_count": 10,
   "metadata": {},
   "outputs": [
    {
     "name": "stdout",
     "output_type": "stream",
     "text": [
      "{125.0}\n"
     ]
    }
   ],
   "source": [
    "#8) Faça um algoritmo para ler: quantidade atual em estoque, quantidade máxima em estoque e quantidade mínima em estoque de um produto. Calcular e escrever a quantidade média ((quantidade média = quantidade máxima + quantidade mínima)/2). Se a quantidade em estoque for maior ou igual a quantidade média, escrever a mensagem 'Não efetuar compra', senão escrever a mensagem 'Efetuar compra'.\n",
    "\n",
    "estoque_atual = int(input('Insira a quantidade atual do estoque: '))\n",
    "estoque_max = 115\n",
    "estoque_min = 20\n",
    "estoque_media = (estoque_max + estoque_min) / 2\n",
    "\n",
    "if estoque_atual <= estoque_media:\n",
    "    print(f'Seu estoque atual é {estoque_atual}')\n",
    "    print(f'A média do seu estoque é {estoque_media:.0f}.')\n",
    "    print('Você precisa repor seu estoque.')\n",
    "else:\n",
    "    print(f'Seu estoque atual é {estoque_atual}')\n",
    "    print(f'A média do seu estoque é {estoque_media:.0f}.')\n",
    "    print('Você ainda não precisa repor seu estoque.')\n"
   ]
  },
  {
   "cell_type": "code",
   "execution_count": 15,
   "metadata": {},
   "outputs": [
    {
     "name": "stdout",
     "output_type": "stream",
     "text": [
      "A sua primeira nota é 5.4, a sua segunda nota é 8.2.\n",
      "A sua média é igual a 6.80, portanto você tirou C.\n",
      "Parabéns, você foi APROVADO!\n"
     ]
    }
   ],
   "source": [
    "\"\"\"9) Faça um programa que lê as duas notas parciais obtidas por um aluno numa disciplina ao longo de um semestre, e calcule a sua média. A atribuição de conceitos obedece à\n",
    "tabela abaixo:\n",
    "Média de Aproveitamento Conceito\n",
    "Entre 9.0 e 10.0 A\n",
    "Entre 7.5 e 9.0 B\n",
    "Entre 6.0 e 7.5 C\n",
    "Entre 4.0 e 6.0 D\n",
    "Entre 4.0 e zero E\n",
    "O algoritmo deve mostrar na tela as notas, a média, o conceito correspondente e a mensagem “APROVADO” se o conceito for A, B ou C ou “REPROVADO” se o conceito for D ou E.\n",
    "\"\"\"\n",
    "\n",
    "nota1 = float(input('Insira a primeira nota: '))\n",
    "nota2 = float(input('Insira a segunda nota: '))\n",
    "media = (nota1 + nota2) / 2\n",
    "\n",
    "if media > 9.0:\n",
    "    media_aproveitamento = \"A\"\n",
    "elif media >= 7.5: \n",
    "    media_aproveitamento = \"B\"\n",
    "elif media >= 6.0:\n",
    "    media_aproveitamento = \"C\"\n",
    "elif media >= 4.0:\n",
    "    media_aproveitamento = \"D\"\n",
    "else:\n",
    "    media_aproveitamento = \"E\"\n",
    "\n",
    "print(f'A sua primeira nota é {nota1}, a sua segunda nota é {nota2}.')\n",
    "print(f'A sua média é igual a {media:.1f}, portanto você tirou {media_aproveitamento}.')\n",
    "\n",
    "if media_aproveitamento in [\"A\", \"B\", \"C\"]:\n",
    "    print(f'Parabéns, você foi APROVADO!')\n",
    "else:\n",
    "    print(f'Sinto muito, você foi REPROVADO!')\n"
   ]
  }
 ],
 "metadata": {
  "kernelspec": {
   "display_name": "Python 3",
   "language": "python",
   "name": "python3"
  },
  "language_info": {
   "codemirror_mode": {
    "name": "ipython",
    "version": 3
   },
   "file_extension": ".py",
   "mimetype": "text/x-python",
   "name": "python",
   "nbconvert_exporter": "python",
   "pygments_lexer": "ipython3",
   "version": "3.11.2"
  },
  "orig_nbformat": 4
 },
 "nbformat": 4,
 "nbformat_minor": 2
}
